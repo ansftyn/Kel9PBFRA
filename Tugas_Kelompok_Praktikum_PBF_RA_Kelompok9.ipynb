{
  "nbformat": 4,
  "nbformat_minor": 0,
  "metadata": {
    "colab": {
      "provenance": [],
      "include_colab_link": true
    },
    "kernelspec": {
      "name": "python3",
      "display_name": "Python 3"
    },
    "language_info": {
      "name": "python"
    }
  },
  "cells": [
    {
      "cell_type": "markdown",
      "metadata": {
        "id": "view-in-github",
        "colab_type": "text"
      },
      "source": [
        "<a href=\"https://colab.research.google.com/github/johannespdf/Kel9PBFRA/blob/main/Tugas_Kelompok_Praktikum_PBF_RA_Kelompok9.ipynb\" target=\"_parent\"><img src=\"https://colab.research.google.com/assets/colab-badge.svg\" alt=\"Open In Colab\"/></a>"
      ]
    },
    {
      "cell_type": "markdown",
      "source": [
        "# buatlah fungsi komposisi dengan nilai f(x) = (4^x), g(x) = (x^x) dan h(x) = 3+x dengan pemrograman prosedural 3 fungsi dan pemrograman fungsional dengan lambda"
      ],
      "metadata": {
        "id": "afho2JSfHV3M"
      }
    },
    {
      "cell_type": "code",
      "execution_count": null,
      "metadata": {
        "id": "nXNYxX_WDKJY"
      },
      "outputs": [],
      "source": [
        "#fungsi komposisi f(x)\n",
        "def f(x):\n",
        "    return 4 ** x\n",
        "\n",
        "#fungsi komposisi g(x)\n",
        "def g(x):\n",
        "    return x ** x\n",
        "\n",
        "#fungsi komposisi h(x)\n",
        "def h(x):\n",
        "    return 3 + x\n",
        "\n",
        "#fungsi prosedural\n",
        "def prosedural(x):\n",
        "    return f(g(h(x)))\n",
        "\n",
        "#meminta inputan x lalu menjalankan hasil prosedural\n",
        "try:\n",
        "  hasil = int(input(\"Masukan nilai x : \"))\n",
        "  print(\"Hasil : \", prosedural(hasil))\n",
        "except ValueError:\n",
        "    print(\"Input yang Anda masukkan bukan bilangan bulat. Silakan masukkan bilangan bulat.\")"
      ]
    },
    {
      "cell_type": "markdown",
      "source": [
        "[link text](https://) Kode di atas menunjukkan penggunaan kata kunci def untuk mendefinisikan fungsi f(x), g(x), dan h(x), serta persamaan matematika seperti 4^x, x^x, dan 3 + x.\n",
        "\n",
        "Fungsi-fungsi tersebut menunjukkan persamaan matematika yang berbeda, seperti f(x) untuk menghitung x pangkat 4, g(x) untuk menghitung x pangkat x, dan h(x) untuk menambahkan 3 ke nilai x."
      ],
      "metadata": {
        "id": "EX6Yg-gNovXX"
      }
    },
    {
      "cell_type": "code",
      "source": [
        "f = lambda x: 4 ** x #fungsi lambda f(x)\n",
        "g = lambda x: x ** x #fungsi lambda g(x)\n",
        "h = lambda x: 3 + x #fungsi lambda h(x)\n",
        "\n",
        "fungsi_lambda = lambda x: f(g(h(x))) #fungsi lambda\n",
        "\n",
        "#meminta inputan x lalu menjalankan hasil\n",
        "try:\n",
        "  hasil = int(input(\"Masukan nilai x : \"))\n",
        "  print(\"Hasil : \", fungsi_lambda(hasil))\n",
        "except ValueError:\n",
        "    print(\"Input yang Anda masukkan bukan bilangan bulat. Silakan masukkan bilangan bulat.\")"
      ],
      "metadata": {
        "id": "T4wBh-i5HkGm"
      },
      "execution_count": null,
      "outputs": []
    },
    {
      "cell_type": "markdown",
      "source": [
        "kode diatas merupakan penghitungan fungsi lambda.kode tersebut melakukan fungsi komposisi dengan menggunakan fungsi lambda dan menangani pengecualian untuk memastikan bahwa program dapat berjalan dengan benar meskipun pengguna memberikan input yang tidak valid."
      ],
      "metadata": {
        "id": "f0gZLcCIHq0P"
      }
    }
  ]
}